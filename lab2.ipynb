{
 "cells": [
  {
   "cell_type": "code",
   "execution_count": 4,
   "metadata": {},
   "outputs": [],
   "source": [
    "import numpy as np\n",
    "import pandas as pd\n",
    "import matplotlib\n",
    "import matplotlib.pyplot as plt\n",
    "import os"
   ]
  },
  {
   "cell_type": "code",
   "execution_count": 5,
   "metadata": {},
   "outputs": [],
   "source": [
    "def read_data(filename: str)->tuple:\n",
    "    df = pd.read_csv(filename, header=None)\n",
    "    avg = df[0].to_string(index=False)\n",
    "    sorted = df[1].to_string(index=False)\n",
    "    reverse = df[2].to_string(index=False)\n",
    "    return avg, sorted, reverse"
   ]
  },
  {
   "cell_type": "code",
   "execution_count": 6,
   "metadata": {},
   "outputs": [],
   "source": [
    "def graph_create(data_1: tuple, data_2: tuple, data_3: tuple, \n",
    "                 data_4: tuple, data_5: tuple, data_6: tuple,data_7: tuple, data_8: tuple, data_9: tuple)->None:\n",
    "    fig, ax = plt.subplots(9, 3)\n",
    "    fig.subplots_adjust(left=0.1, right=1.6, bottom=0.6, top=2.3, wspace=0.4, hspace=1.6)\n",
    "    fig. tight_layout (h_pad= 25, w_pad=30 )\n",
    "    sort_type = ['bubble', 'shaker', 'merge']\n",
    "    vec_sort = ['avg', 'reverse_sorted', 'sorted']\n",
    "    data = [data_1, data_2, data_3, data_4, data_5, data_6, data_7, data_8, data_9]\n",
    "    i = 0\n",
    "    for s_type in sort_type:\n",
    "        for v_sort in vec_sort:\n",
    "            for j in range(0, 3):\n",
    "                x = [float(x) for x in range(1000,20001,1000)]\n",
    "                y = [float(y) for y in data[i][j].split()]\n",
    "                ax[i, j].plot(x, y)\n",
    "                ax[i, j].set_xlabel('elements')\n",
    "            i += 1\n",
    "        \n",
    "    mean = ['time', 'cmp', 'copy']\n",
    "    for k in range(0,3):\n",
    "        ax[0,k].set_title('bubble avg ')\n",
    "        ax[0, k].set_ylabel(mean[k])\n",
    "    for k in range(0,3):\n",
    "        ax[1,k].set_title('bubble reverse ')\n",
    "        ax[1, k].set_ylabel(mean[k])\n",
    "    for k in range(0,3):\n",
    "        ax[2,k].set_title('bubble sorted ')\n",
    "        ax[2, k].set_ylabel(mean[k])\n",
    "    for k in range(0,3):\n",
    "        ax[3,k].set_title('shaker avg ')\n",
    "        ax[3, k].set_ylabel(mean[k])\n",
    "    for k in range(0,3):\n",
    "        ax[4,k].set_title('shaker reverse ')\n",
    "        ax[4, k].set_ylabel(mean[k])\n",
    "    for k in range(0,3):\n",
    "        ax[5,k].set_title('shaker sorted ')\n",
    "        ax[5, k].set_ylabel(mean[k])\n",
    "    for k in range(0,3):\n",
    "        ax[6,k].set_title('hb avg ')\n",
    "        ax[6, k].set_ylabel(mean[k])\n",
    "    for k in range(0,3):\n",
    "        ax[7,k].set_title('hb reverse ')\n",
    "        ax[7, k].set_ylabel(mean[k])\n",
    "    for k in range(0,3):\n",
    "        ax[8,k].set_title('hb sorted ')\n",
    "        ax[8, k].set_ylabel(mean[k])"
   ]
  },
  {
   "cell_type": "code",
   "execution_count": null,
   "metadata": {},
   "outputs": [],
   "source": [
    "data_1 = read_data('BubbleSort_avg.csv')\n",
    "data_2 = read_data('BubbleSort_reverse_sorted.csv')\n",
    "data_3 = read_data('BubbleSort_sorted.csv')\n",
    "data_4 = read_data('ShakerSort_avg.csv')\n",
    "data_5 = read_data('ShakerSort_reverse_sorted.csv')\n",
    "data_6 = read_data('ShakerSort_sorted.csv')\n",
    "data_7 = read_data('HBSort_avg.csv')\n",
    "data_8 = read_data('HBSort_reverse_sorted.csv')\n",
    "data_9 = read_data('HBSort_sorted.csv')\n",
    "graph_create(data_1, data_2, data_3,data_4, data_5, data_6,data_7, data_8, data_9)"
   ]
  }
 ],
 "metadata": {
  "kernelspec": {
   "display_name": "universal",
   "language": "python",
   "name": "python3"
  },
  "language_info": {
   "codemirror_mode": {
    "name": "ipython",
    "version": 3
   },
   "file_extension": ".py",
   "mimetype": "text/x-python",
   "name": "python",
   "nbconvert_exporter": "python",
   "pygments_lexer": "ipython3",
   "version": "3.11.3"
  },
  "orig_nbformat": 4
 },
 "nbformat": 4,
 "nbformat_minor": 2
}
